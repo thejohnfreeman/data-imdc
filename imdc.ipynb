{
 "cells": [
  {
   "cell_type": "code",
   "execution_count": 1,
   "id": "9fc24499",
   "metadata": {},
   "outputs": [],
   "source": [
    "import pandas as pd\n",
    "import altair as alt"
   ]
  },
  {
   "cell_type": "code",
   "execution_count": 46,
   "id": "dc08c5e7",
   "metadata": {},
   "outputs": [],
   "source": [
    "# Handy constants for Altair.\n",
    "TEMPORAL = 'temporal'\n",
    "ORDINAL = 'ordinal'"
   ]
  },
  {
   "cell_type": "code",
   "execution_count": 9,
   "id": "26fd391d",
   "metadata": {},
   "outputs": [],
   "source": [
    "disasters = pd.read_csv('disasters/disasters.csv', header=[0,1], encoding='latin-1')"
   ]
  },
  {
   "cell_type": "code",
   "execution_count": 11,
   "id": "bf31f858",
   "metadata": {},
   "outputs": [],
   "source": [
    "disasters.columns = disasters.columns.droplevel(1)"
   ]
  },
  {
   "cell_type": "code",
   "execution_count": 12,
   "id": "06c5626b",
   "metadata": {},
   "outputs": [
    {
     "data": {
      "text/html": [
       "<div>\n",
       "<style scoped>\n",
       "    .dataframe tbody tr th:only-of-type {\n",
       "        vertical-align: middle;\n",
       "    }\n",
       "\n",
       "    .dataframe tbody tr th {\n",
       "        vertical-align: top;\n",
       "    }\n",
       "\n",
       "    .dataframe thead th {\n",
       "        text-align: right;\n",
       "    }\n",
       "</style>\n",
       "<table border=\"1\" class=\"dataframe\">\n",
       "  <thead>\n",
       "    <tr style=\"text-align: right;\">\n",
       "      <th></th>\n",
       "      <th>ISO3</th>\n",
       "      <th>Name</th>\n",
       "      <th>Year</th>\n",
       "      <th>Start Date</th>\n",
       "      <th>Event Name</th>\n",
       "      <th>Hazard Category</th>\n",
       "      <th>Hazard Type</th>\n",
       "      <th>New Displacements</th>\n",
       "    </tr>\n",
       "  </thead>\n",
       "  <tbody>\n",
       "    <tr>\n",
       "      <th>0</th>\n",
       "      <td>AB9</td>\n",
       "      <td>Abyei Area</td>\n",
       "      <td>2018</td>\n",
       "      <td>2018-07-01</td>\n",
       "      <td>Abyie: Flood - 01/07/2018</td>\n",
       "      <td>Weather related</td>\n",
       "      <td>Flood</td>\n",
       "      <td>2.0</td>\n",
       "    </tr>\n",
       "    <tr>\n",
       "      <th>1</th>\n",
       "      <td>AB9</td>\n",
       "      <td>Abyei Area</td>\n",
       "      <td>2019</td>\n",
       "      <td>2019-06-01</td>\n",
       "      <td>Abyei: Flood - southern parts - 01/06/2019</td>\n",
       "      <td>Weather related</td>\n",
       "      <td>Flood</td>\n",
       "      <td>40000.0</td>\n",
       "    </tr>\n",
       "    <tr>\n",
       "      <th>2</th>\n",
       "      <td>AFG</td>\n",
       "      <td>Afghanistan</td>\n",
       "      <td>2008</td>\n",
       "      <td>2008-04-17</td>\n",
       "      <td>NaN</td>\n",
       "      <td>Geophysical</td>\n",
       "      <td>Earthquake</td>\n",
       "      <td>3250.0</td>\n",
       "    </tr>\n",
       "    <tr>\n",
       "      <th>3</th>\n",
       "      <td>AFG</td>\n",
       "      <td>Afghanistan</td>\n",
       "      <td>2008</td>\n",
       "      <td>2008-08-01</td>\n",
       "      <td>NaN</td>\n",
       "      <td>Weather related</td>\n",
       "      <td>Flood</td>\n",
       "      <td>180.0</td>\n",
       "    </tr>\n",
       "    <tr>\n",
       "      <th>4</th>\n",
       "      <td>AFG</td>\n",
       "      <td>Afghanistan</td>\n",
       "      <td>2008</td>\n",
       "      <td>2008-01-01</td>\n",
       "      <td>NaN</td>\n",
       "      <td>Weather related</td>\n",
       "      <td>Extreme temperature</td>\n",
       "      <td>NaN</td>\n",
       "    </tr>\n",
       "    <tr>\n",
       "      <th>...</th>\n",
       "      <td>...</td>\n",
       "      <td>...</td>\n",
       "      <td>...</td>\n",
       "      <td>...</td>\n",
       "      <td>...</td>\n",
       "      <td>...</td>\n",
       "      <td>...</td>\n",
       "      <td>...</td>\n",
       "    </tr>\n",
       "    <tr>\n",
       "      <th>10180</th>\n",
       "      <td>ZWE</td>\n",
       "      <td>Zimbabwe</td>\n",
       "      <td>2019</td>\n",
       "      <td>2019-02-13</td>\n",
       "      <td>Zimbabwe: Floods- Chiredzi (Masvingo)- 13/02/2019</td>\n",
       "      <td>Weather related</td>\n",
       "      <td>Flood</td>\n",
       "      <td>200.0</td>\n",
       "    </tr>\n",
       "    <tr>\n",
       "      <th>10181</th>\n",
       "      <td>ZWE</td>\n",
       "      <td>Zimbabwe</td>\n",
       "      <td>2019</td>\n",
       "      <td>2019-10-07</td>\n",
       "      <td>Zimbabwe: Hailstorm- Masvingo (Zaka)- 07/10/2019</td>\n",
       "      <td>Weather related</td>\n",
       "      <td>Storm</td>\n",
       "      <td>400.0</td>\n",
       "    </tr>\n",
       "    <tr>\n",
       "      <th>10182</th>\n",
       "      <td>ZWE</td>\n",
       "      <td>Zimbabwe</td>\n",
       "      <td>2020</td>\n",
       "      <td>2020-02-11</td>\n",
       "      <td>Zimbabwe: Flash flooding- Matabeleland North (...</td>\n",
       "      <td>Weather related</td>\n",
       "      <td>Flood</td>\n",
       "      <td>148.0</td>\n",
       "    </tr>\n",
       "    <tr>\n",
       "      <th>10183</th>\n",
       "      <td>ZWE</td>\n",
       "      <td>Zimbabwe</td>\n",
       "      <td>2020</td>\n",
       "      <td>2020-01-17</td>\n",
       "      <td>Zimbabwe: Flash flooding- Matabeleland North (...</td>\n",
       "      <td>Weather related</td>\n",
       "      <td>Flood</td>\n",
       "      <td>35.0</td>\n",
       "    </tr>\n",
       "    <tr>\n",
       "      <th>10184</th>\n",
       "      <td>ZWE</td>\n",
       "      <td>Zimbabwe</td>\n",
       "      <td>2020</td>\n",
       "      <td>2020-11-22</td>\n",
       "      <td>Zimbabwe: Storm - Binga (Lusulu) - 22/11/2020</td>\n",
       "      <td>Weather related</td>\n",
       "      <td>Storm</td>\n",
       "      <td>200.0</td>\n",
       "    </tr>\n",
       "  </tbody>\n",
       "</table>\n",
       "<p>10185 rows × 8 columns</p>\n",
       "</div>"
      ],
      "text/plain": [
       "      ISO3         Name  Year  Start Date  \\\n",
       "0      AB9   Abyei Area  2018  2018-07-01   \n",
       "1      AB9   Abyei Area  2019  2019-06-01   \n",
       "2      AFG  Afghanistan  2008  2008-04-17   \n",
       "3      AFG  Afghanistan  2008  2008-08-01   \n",
       "4      AFG  Afghanistan  2008  2008-01-01   \n",
       "...    ...          ...   ...         ...   \n",
       "10180  ZWE     Zimbabwe  2019  2019-02-13   \n",
       "10181  ZWE     Zimbabwe  2019  2019-10-07   \n",
       "10182  ZWE     Zimbabwe  2020  2020-02-11   \n",
       "10183  ZWE     Zimbabwe  2020  2020-01-17   \n",
       "10184  ZWE     Zimbabwe  2020  2020-11-22   \n",
       "\n",
       "                                              Event Name  Hazard Category  \\\n",
       "0                              Abyie: Flood - 01/07/2018  Weather related   \n",
       "1             Abyei: Flood - southern parts - 01/06/2019  Weather related   \n",
       "2                                                    NaN      Geophysical   \n",
       "3                                                    NaN  Weather related   \n",
       "4                                                    NaN  Weather related   \n",
       "...                                                  ...              ...   \n",
       "10180  Zimbabwe: Floods- Chiredzi (Masvingo)- 13/02/2019  Weather related   \n",
       "10181   Zimbabwe: Hailstorm- Masvingo (Zaka)- 07/10/2019  Weather related   \n",
       "10182  Zimbabwe: Flash flooding- Matabeleland North (...  Weather related   \n",
       "10183  Zimbabwe: Flash flooding- Matabeleland North (...  Weather related   \n",
       "10184      Zimbabwe: Storm - Binga (Lusulu) - 22/11/2020  Weather related   \n",
       "\n",
       "               Hazard Type  New Displacements  \n",
       "0                    Flood                2.0  \n",
       "1                    Flood            40000.0  \n",
       "2               Earthquake             3250.0  \n",
       "3                    Flood              180.0  \n",
       "4      Extreme temperature                NaN  \n",
       "...                    ...                ...  \n",
       "10180                Flood              200.0  \n",
       "10181                Storm              400.0  \n",
       "10182                Flood              148.0  \n",
       "10183                Flood               35.0  \n",
       "10184                Storm              200.0  \n",
       "\n",
       "[10185 rows x 8 columns]"
      ]
     },
     "execution_count": 12,
     "metadata": {},
     "output_type": "execute_result"
    }
   ],
   "source": [
    "disasters"
   ]
  },
  {
   "cell_type": "code",
   "execution_count": 30,
   "id": "120f1c71",
   "metadata": {},
   "outputs": [],
   "source": [
    "# Handy column name constants.\n",
    "HAZARD_CATEGORY = 'Hazard Category'\n",
    "HAZARD_TYPE = 'Hazard Type'\n",
    "NEW_DISPLACEMENTS = 'New Displacements'\n",
    "YEAR = 'Year'"
   ]
  },
  {
   "cell_type": "code",
   "execution_count": 17,
   "id": "f21f0c84",
   "metadata": {},
   "outputs": [
    {
     "data": {
      "text/plain": [
       "array(['Flood', 'Earthquake', 'Extreme temperature', 'Wet mass movement',\n",
       "       'Storm', 'Dry mass movement', 'Drought', 'Volcanic eruption',\n",
       "       'Wildfire', nan, 'Mass movement', 'Volcanic activity',\n",
       "       'Wet Mass movement', 'Severe winter condition',\n",
       "       'Wet Mass Movement'], dtype=object)"
      ]
     },
     "execution_count": 17,
     "metadata": {},
     "output_type": "execute_result"
    }
   ],
   "source": [
    "# What categories are they using?\n",
    "disasters[HAZARD_CATEGORY].unique()"
   ]
  },
  {
   "cell_type": "code",
   "execution_count": 14,
   "id": "c29f11b3",
   "metadata": {},
   "outputs": [
    {
     "data": {
      "text/plain": [
       "(3, 0.0002945508100147275)"
      ]
     },
     "execution_count": 14,
     "metadata": {},
     "output_type": "execute_result"
    }
   ],
   "source": [
    "# How many (what portion) of events are missing a category?\n",
    "m = disasters[HAZARD_CATEGORY].isna().sum()\n",
    "n = len(disasters)\n",
    "m, m/n"
   ]
  },
  {
   "cell_type": "code",
   "execution_count": 20,
   "id": "bea480ec",
   "metadata": {},
   "outputs": [
    {
     "data": {
      "text/html": [
       "<div>\n",
       "<style scoped>\n",
       "    .dataframe tbody tr th:only-of-type {\n",
       "        vertical-align: middle;\n",
       "    }\n",
       "\n",
       "    .dataframe tbody tr th {\n",
       "        vertical-align: top;\n",
       "    }\n",
       "\n",
       "    .dataframe thead th {\n",
       "        text-align: right;\n",
       "    }\n",
       "</style>\n",
       "<table border=\"1\" class=\"dataframe\">\n",
       "  <thead>\n",
       "    <tr style=\"text-align: right;\">\n",
       "      <th></th>\n",
       "      <th>ISO3</th>\n",
       "      <th>Name</th>\n",
       "      <th>Year</th>\n",
       "      <th>Start Date</th>\n",
       "      <th>Event Name</th>\n",
       "      <th>Hazard Category</th>\n",
       "      <th>Hazard Type</th>\n",
       "      <th>New Displacements</th>\n",
       "    </tr>\n",
       "  </thead>\n",
       "  <tbody>\n",
       "    <tr>\n",
       "      <th>776</th>\n",
       "      <td>BGD</td>\n",
       "      <td>Bangladesh</td>\n",
       "      <td>2017</td>\n",
       "      <td>2017-04-12</td>\n",
       "      <td>Bangladesh : Riverbanck erosion - Sirajganj , ...</td>\n",
       "      <td>NaN</td>\n",
       "      <td>NaN</td>\n",
       "      <td>630.0</td>\n",
       "    </tr>\n",
       "    <tr>\n",
       "      <th>2424</th>\n",
       "      <td>COL</td>\n",
       "      <td>Colombia</td>\n",
       "      <td>2018</td>\n",
       "      <td>2018-03-02</td>\n",
       "      <td>Colombia: oil spill - Santander - March 2018</td>\n",
       "      <td>NaN</td>\n",
       "      <td>NaN</td>\n",
       "      <td>178.0</td>\n",
       "    </tr>\n",
       "    <tr>\n",
       "      <th>9120</th>\n",
       "      <td>USA</td>\n",
       "      <td>United States</td>\n",
       "      <td>2017</td>\n",
       "      <td>2017-08-11</td>\n",
       "      <td>United States : Utah Uintah Fire - Utah - 05/0...</td>\n",
       "      <td>NaN</td>\n",
       "      <td>NaN</td>\n",
       "      <td>309.0</td>\n",
       "    </tr>\n",
       "  </tbody>\n",
       "</table>\n",
       "</div>"
      ],
      "text/plain": [
       "     ISO3           Name  Year  Start Date  \\\n",
       "776   BGD     Bangladesh  2017  2017-04-12   \n",
       "2424  COL       Colombia  2018  2018-03-02   \n",
       "9120  USA  United States  2017  2017-08-11   \n",
       "\n",
       "                                             Event Name Hazard Category  \\\n",
       "776   Bangladesh : Riverbanck erosion - Sirajganj , ...             NaN   \n",
       "2424       Colombia: oil spill - Santander - March 2018             NaN   \n",
       "9120  United States : Utah Uintah Fire - Utah - 05/0...             NaN   \n",
       "\n",
       "     Hazard Type  New Displacements  \n",
       "776          NaN              630.0  \n",
       "2424         NaN              178.0  \n",
       "9120         NaN              309.0  "
      ]
     },
     "execution_count": 20,
     "metadata": {},
     "output_type": "execute_result"
    }
   ],
   "source": [
    "# Which events were those?\n",
    "disasters[disasters[HAZARD_CATEGORY].isna()]"
   ]
  },
  {
   "cell_type": "code",
   "execution_count": 19,
   "id": "d3f27f5d",
   "metadata": {},
   "outputs": [
    {
     "data": {
      "text/plain": [
       "(1117.0, 3.5053208935342254e-06)"
      ]
     },
     "execution_count": 19,
     "metadata": {},
     "output_type": "execute_result"
    }
   ],
   "source": [
    "# How many people were affected by those uncategorized events?\n",
    "m = disasters[disasters[HAZARD_CATEGORY].isna()][NEW_DISPLACEMENTS].sum()\n",
    "n = disasters[NEW_DISPLACEMENTS].sum()\n",
    "m, m/n"
   ]
  },
  {
   "cell_type": "code",
   "execution_count": 23,
   "id": "9e86a68c",
   "metadata": {},
   "outputs": [],
   "source": [
    "# It's ok to ignore those rows.\n",
    "disasters = disasters[~disasters[HAZARD_CATEGORY].isna()]"
   ]
  },
  {
   "cell_type": "code",
   "execution_count": 33,
   "id": "708e5b6b",
   "metadata": {},
   "outputs": [
    {
     "data": {
      "text/plain": [
       "Year\n",
       "2008     221\n",
       "2009     262\n",
       "2010     355\n",
       "2011     295\n",
       "2012     211\n",
       "2013     644\n",
       "2014     696\n",
       "2015     599\n",
       "2016     593\n",
       "2017     941\n",
       "2018    1610\n",
       "2019    1928\n",
       "2020    1827\n",
       "Name: Hazard Category, dtype: int64"
      ]
     },
     "execution_count": 33,
     "metadata": {},
     "output_type": "execute_result"
    }
   ],
   "source": [
    "disasters.groupby(YEAR)[HAZARD_CATEGORY].count()"
   ]
  },
  {
   "cell_type": "code",
   "execution_count": 48,
   "id": "9eaeee65",
   "metadata": {},
   "outputs": [
    {
     "data": {
      "text/plain": [
       "Year\n",
       "2008    38240828.0\n",
       "2009    16732507.0\n",
       "2010    42350166.0\n",
       "2011    15024154.0\n",
       "2012    30145960.0\n",
       "2013    22129890.0\n",
       "2014    19122384.0\n",
       "2015    19192530.0\n",
       "2016    24217150.0\n",
       "2017    18777435.0\n",
       "2018    17181797.0\n",
       "2019    24854800.0\n",
       "2020    30687697.0\n",
       "Name: New Displacements, dtype: float64"
      ]
     },
     "execution_count": 48,
     "metadata": {},
     "output_type": "execute_result"
    }
   ],
   "source": [
    "source = disasters.groupby(YEAR)[NEW_DISPLACEMENTS].sum()\n",
    "source"
   ]
  },
  {
   "cell_type": "code",
   "execution_count": 47,
   "id": "5bc240d0",
   "metadata": {},
   "outputs": [
    {
     "data": {
      "text/html": [
       "\n",
       "<div id=\"altair-viz-a2e62648a843404787f3ee3d69fd9210\"></div>\n",
       "<script type=\"text/javascript\">\n",
       "  (function(spec, embedOpt){\n",
       "    let outputDiv = document.currentScript.previousElementSibling;\n",
       "    if (outputDiv.id !== \"altair-viz-a2e62648a843404787f3ee3d69fd9210\") {\n",
       "      outputDiv = document.getElementById(\"altair-viz-a2e62648a843404787f3ee3d69fd9210\");\n",
       "    }\n",
       "    const paths = {\n",
       "      \"vega\": \"https://cdn.jsdelivr.net/npm//vega@5?noext\",\n",
       "      \"vega-lib\": \"https://cdn.jsdelivr.net/npm//vega-lib?noext\",\n",
       "      \"vega-lite\": \"https://cdn.jsdelivr.net/npm//vega-lite@4.8.1?noext\",\n",
       "      \"vega-embed\": \"https://cdn.jsdelivr.net/npm//vega-embed@6?noext\",\n",
       "    };\n",
       "\n",
       "    function loadScript(lib) {\n",
       "      return new Promise(function(resolve, reject) {\n",
       "        var s = document.createElement('script');\n",
       "        s.src = paths[lib];\n",
       "        s.async = true;\n",
       "        s.onload = () => resolve(paths[lib]);\n",
       "        s.onerror = () => reject(`Error loading script: ${paths[lib]}`);\n",
       "        document.getElementsByTagName(\"head\")[0].appendChild(s);\n",
       "      });\n",
       "    }\n",
       "\n",
       "    function showError(err) {\n",
       "      outputDiv.innerHTML = `<div class=\"error\" style=\"color:red;\">${err}</div>`;\n",
       "      throw err;\n",
       "    }\n",
       "\n",
       "    function displayChart(vegaEmbed) {\n",
       "      vegaEmbed(outputDiv, spec, embedOpt)\n",
       "        .catch(err => showError(`Javascript Error: ${err.message}<br>This usually means there's a typo in your chart specification. See the javascript console for the full traceback.`));\n",
       "    }\n",
       "\n",
       "    if(typeof define === \"function\" && define.amd) {\n",
       "      requirejs.config({paths});\n",
       "      require([\"vega-embed\"], displayChart, err => showError(`Error loading script: ${err.message}`));\n",
       "    } else if (typeof vegaEmbed === \"function\") {\n",
       "      displayChart(vegaEmbed);\n",
       "    } else {\n",
       "      loadScript(\"vega\")\n",
       "        .then(() => loadScript(\"vega-lite\"))\n",
       "        .then(() => loadScript(\"vega-embed\"))\n",
       "        .catch(showError)\n",
       "        .then(() => displayChart(vegaEmbed));\n",
       "    }\n",
       "  })({\"config\": {\"view\": {\"continuousWidth\": 400, \"continuousHeight\": 300}}, \"data\": {\"name\": \"data-b47087ca3a146c0bb725d152e813666a\"}, \"mark\": \"bar\", \"encoding\": {\"x\": {\"type\": \"ordinal\", \"field\": \"Year\"}, \"y\": {\"type\": \"quantitative\", \"field\": \"Hazard Category\"}}, \"$schema\": \"https://vega.github.io/schema/vega-lite/v4.8.1.json\", \"datasets\": {\"data-b47087ca3a146c0bb725d152e813666a\": [{\"Year\": 2008, \"Hazard Category\": 221}, {\"Year\": 2009, \"Hazard Category\": 262}, {\"Year\": 2010, \"Hazard Category\": 355}, {\"Year\": 2011, \"Hazard Category\": 295}, {\"Year\": 2012, \"Hazard Category\": 211}, {\"Year\": 2013, \"Hazard Category\": 644}, {\"Year\": 2014, \"Hazard Category\": 696}, {\"Year\": 2015, \"Hazard Category\": 599}, {\"Year\": 2016, \"Hazard Category\": 593}, {\"Year\": 2017, \"Hazard Category\": 941}, {\"Year\": 2018, \"Hazard Category\": 1610}, {\"Year\": 2019, \"Hazard Category\": 1928}, {\"Year\": 2020, \"Hazard Category\": 1827}]}}, {\"mode\": \"vega-lite\"});\n",
       "</script>"
      ],
      "text/plain": [
       "alt.Chart(...)"
      ]
     },
     "execution_count": 47,
     "metadata": {},
     "output_type": "execute_result"
    }
   ],
   "source": [
    "# How has reporting changed by year?\n",
    "source = disasters.groupby(YEAR)[HAZARD_CATEGORY].count()\n",
    "alt.Chart(source.to_frame().reset_index()).mark_bar().encode(\n",
    "    alt.X(YEAR, type=ORDINAL),\n",
    "    y=HAZARD_CATEGORY\n",
    ")"
   ]
  },
  {
   "cell_type": "code",
   "execution_count": 49,
   "id": "a5432018",
   "metadata": {},
   "outputs": [
    {
     "data": {
      "text/html": [
       "\n",
       "<div id=\"altair-viz-eabfa2ca0810464e9e2411ee27357630\"></div>\n",
       "<script type=\"text/javascript\">\n",
       "  (function(spec, embedOpt){\n",
       "    let outputDiv = document.currentScript.previousElementSibling;\n",
       "    if (outputDiv.id !== \"altair-viz-eabfa2ca0810464e9e2411ee27357630\") {\n",
       "      outputDiv = document.getElementById(\"altair-viz-eabfa2ca0810464e9e2411ee27357630\");\n",
       "    }\n",
       "    const paths = {\n",
       "      \"vega\": \"https://cdn.jsdelivr.net/npm//vega@5?noext\",\n",
       "      \"vega-lib\": \"https://cdn.jsdelivr.net/npm//vega-lib?noext\",\n",
       "      \"vega-lite\": \"https://cdn.jsdelivr.net/npm//vega-lite@4.8.1?noext\",\n",
       "      \"vega-embed\": \"https://cdn.jsdelivr.net/npm//vega-embed@6?noext\",\n",
       "    };\n",
       "\n",
       "    function loadScript(lib) {\n",
       "      return new Promise(function(resolve, reject) {\n",
       "        var s = document.createElement('script');\n",
       "        s.src = paths[lib];\n",
       "        s.async = true;\n",
       "        s.onload = () => resolve(paths[lib]);\n",
       "        s.onerror = () => reject(`Error loading script: ${paths[lib]}`);\n",
       "        document.getElementsByTagName(\"head\")[0].appendChild(s);\n",
       "      });\n",
       "    }\n",
       "\n",
       "    function showError(err) {\n",
       "      outputDiv.innerHTML = `<div class=\"error\" style=\"color:red;\">${err}</div>`;\n",
       "      throw err;\n",
       "    }\n",
       "\n",
       "    function displayChart(vegaEmbed) {\n",
       "      vegaEmbed(outputDiv, spec, embedOpt)\n",
       "        .catch(err => showError(`Javascript Error: ${err.message}<br>This usually means there's a typo in your chart specification. See the javascript console for the full traceback.`));\n",
       "    }\n",
       "\n",
       "    if(typeof define === \"function\" && define.amd) {\n",
       "      requirejs.config({paths});\n",
       "      require([\"vega-embed\"], displayChart, err => showError(`Error loading script: ${err.message}`));\n",
       "    } else if (typeof vegaEmbed === \"function\") {\n",
       "      displayChart(vegaEmbed);\n",
       "    } else {\n",
       "      loadScript(\"vega\")\n",
       "        .then(() => loadScript(\"vega-lite\"))\n",
       "        .then(() => loadScript(\"vega-embed\"))\n",
       "        .catch(showError)\n",
       "        .then(() => displayChart(vegaEmbed));\n",
       "    }\n",
       "  })({\"config\": {\"view\": {\"continuousWidth\": 400, \"continuousHeight\": 300}}, \"data\": {\"name\": \"data-55963c93716de8cf492efab7d3227e75\"}, \"mark\": \"bar\", \"encoding\": {\"x\": {\"type\": \"ordinal\", \"field\": \"Year\"}, \"y\": {\"type\": \"quantitative\", \"field\": \"New Displacements\"}}, \"$schema\": \"https://vega.github.io/schema/vega-lite/v4.8.1.json\", \"datasets\": {\"data-55963c93716de8cf492efab7d3227e75\": [{\"Year\": 2008, \"New Displacements\": 38240828.0}, {\"Year\": 2009, \"New Displacements\": 16732507.0}, {\"Year\": 2010, \"New Displacements\": 42350166.0}, {\"Year\": 2011, \"New Displacements\": 15024154.0}, {\"Year\": 2012, \"New Displacements\": 30145960.0}, {\"Year\": 2013, \"New Displacements\": 22129890.0}, {\"Year\": 2014, \"New Displacements\": 19122384.0}, {\"Year\": 2015, \"New Displacements\": 19192530.0}, {\"Year\": 2016, \"New Displacements\": 24217150.0}, {\"Year\": 2017, \"New Displacements\": 18777435.0}, {\"Year\": 2018, \"New Displacements\": 17181797.0}, {\"Year\": 2019, \"New Displacements\": 24854800.0}, {\"Year\": 2020, \"New Displacements\": 30687697.0}]}}, {\"mode\": \"vega-lite\"});\n",
       "</script>"
      ],
      "text/plain": [
       "alt.Chart(...)"
      ]
     },
     "execution_count": 49,
     "metadata": {},
     "output_type": "execute_result"
    }
   ],
   "source": [
    "# How many affected people were captured by the reporting each year?\n",
    "source = disasters.groupby(YEAR)[NEW_DISPLACEMENTS].sum()\n",
    "alt.Chart(source.to_frame().reset_index()).mark_bar().encode(\n",
    "    alt.X(YEAR, type=ORDINAL),\n",
    "    y=NEW_DISPLACEMENTS\n",
    ")"
   ]
  }
 ],
 "metadata": {
  "kernelspec": {
   "display_name": "Python 3 (ipykernel)",
   "language": "python",
   "name": "python3"
  },
  "language_info": {
   "codemirror_mode": {
    "name": "ipython",
    "version": 3
   },
   "file_extension": ".py",
   "mimetype": "text/x-python",
   "name": "python",
   "nbconvert_exporter": "python",
   "pygments_lexer": "ipython3",
   "version": "3.9.7+"
  }
 },
 "nbformat": 4,
 "nbformat_minor": 5
}
